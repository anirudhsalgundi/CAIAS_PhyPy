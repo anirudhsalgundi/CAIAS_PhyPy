{
 "cells": [
  {
   "cell_type": "markdown",
   "metadata": {},
   "source": [
    "# Since I am an Astrophysicist, let me show you once usecase of programming in Astrophysics\n",
    "\n",
    "## Here, we will try and simulate a lightcurve of a rotating Neutron Star and find its spin period!\n",
    "\n",
    "### Although this is a simulated and controlled environment, same method can be used in real data too! I myself have measured a spin period of a Neutron Star using exact same codes!"
   ]
  },
  {
   "cell_type": "code",
   "execution_count": null,
   "metadata": {},
   "outputs": [],
   "source": [
    "!pip install numpy stingray matplotlib"
   ]
  },
  {
   "cell_type": "code",
   "execution_count": null,
   "metadata": {},
   "outputs": [],
   "source": [
    "import numpy as np\n",
    "from stingray import Lightcurve, Powerspectrum, AveragedPowerspectrum\n",
    "\n",
    "import matplotlib.pyplot as plt"
   ]
  },
  {
   "cell_type": "code",
   "execution_count": null,
   "metadata": {},
   "outputs": [],
   "source": [
    "#Let us assume you have a high end fancy telescope. You can see one photon every 0.1 seconds, dt = 0.1 seconds)\n",
    "dt = 0.1  # seconds\n",
    "\n",
    "# Using this telescope, you look at a rotating Neutron Star for 8 seconds\n",
    "exposure = 8  # seconds\n",
    "\n",
    "# Now Let us make an array of time from 0 to 8 in steps of 1 milliseconds\n",
    "times = np.arange(0, exposure, dt)  # seconds\n",
    "\n",
    "# The period of the neutron star is 0.5 seconds\n",
    "period = 0.5  # seconds\n",
    "\n",
    "# A rotating neutron star gives you a signal that is a sinusoid, so let us simulate a lightcurve of it\n",
    "signal = 300 * np.sin(2.*np.pi*times/period) + 1000  # counts/s\n",
    "\n",
    "# Now let us add some noise to it\n",
    "noisy = np.random.poisson(signal*dt)  # counts"
   ]
  },
  {
   "cell_type": "code",
   "execution_count": null,
   "metadata": {},
   "outputs": [],
   "source": [
    "# Let us create a lightcurve object\n",
    "lc = Lightcurve(times, noisy, dt=dt, skip_checks=True)"
   ]
  },
  {
   "cell_type": "code",
   "execution_count": null,
   "metadata": {},
   "outputs": [],
   "source": [
    "# Let us see how the lightcurve looks like\n",
    "plt.plot(lc.time, lc.counts)\n",
    "plt.xlabel(\"Time (s)\")\n",
    "plt.ylabel(\"Counts\")\n",
    "plt.title(\"Simulated Lightcurve\")\n",
    "plt.show()"
   ]
  },
  {
   "cell_type": "code",
   "execution_count": null,
   "metadata": {},
   "outputs": [],
   "source": [
    "ps = Powerspectrum(lc)\n",
    "ps.plot()"
   ]
  }
 ],
 "metadata": {
  "kernelspec": {
   "display_name": "base",
   "language": "python",
   "name": "python3"
  },
  "language_info": {
   "codemirror_mode": {
    "name": "ipython",
    "version": 3
   },
   "file_extension": ".py",
   "mimetype": "text/x-python",
   "name": "python",
   "nbconvert_exporter": "python",
   "pygments_lexer": "ipython3",
   "version": "3.12.2"
  }
 },
 "nbformat": 4,
 "nbformat_minor": 2
}
