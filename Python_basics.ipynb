{
 "cells": [
  {
   "cell_type": "markdown",
   "metadata": {},
   "source": [
    "# Computational Physics: Integrating Physics and Python"
   ]
  },
  {
   "cell_type": "markdown",
   "metadata": {},
   "source": [
    "# 1. Introduction to Python: Variables and Data Types\n",
    "\n",
    "### What are Variables?\n",
    "Variables are used to store information that can be referenced and manipulated later.\n",
    "Python is dynamically typed, meaning you don’t need to explicitly declare the data type."
   ]
  },
  {
   "cell_type": "code",
   "execution_count": null,
   "metadata": {},
   "outputs": [],
   "source": [
    "# Assigning values to variables\n",
    "integer_variable = 10   # Integer data type\n",
    "float_variable = 3.14   # Floating-point number\n",
    "txt_variable = \"\"  # String data type"
   ]
  },
  {
   "cell_type": "code",
   "execution_count": null,
   "metadata": {},
   "outputs": [],
   "source": [
    "# Displaying variable values\n",
    "print(\"Integer variable:\", integer_variable)\n",
    "print(\"Floating-point variable:\", float_variable)\n",
    "print(\"String variable:\", txt_variable)\n",
    "\n",
    "# We will use var instead of variable (it is a common coding practise)"
   ]
  },
  {
   "cell_type": "markdown",
   "metadata": {},
   "source": [
    "### Basic Data Types in Python\n",
    "Python has several built-in data types, including:\n",
    " - int: Whole numbers (e.g., 1, 100, -5)\n",
    " - float: Decimal numbers (e.g., 3.14, -2.5, 0.001)\n",
    " - str: Textual data (e.g., \"Hello\", 'Physics')\n",
    " - bool: Boolean values (True or False)\n",
    " - list: Ordered, mutable collection (e.g., [1, 2, 3])\n",
    " - tuple: Ordered, immutable collection (e.g., (1, 2, 3))\n",
    " - dict: Key-value pairs (e.g., {\"name\": \"Einstein\", \"age\": 42})"
   ]
  },
  {
   "cell_type": "code",
   "execution_count": null,
   "metadata": {},
   "outputs": [],
   "source": [
    "# Example of different data types\n",
    "boolean_var = True  # Boolean (True/False)\n",
    "list_var = [1, 2, 3, 4, 5]  # List (mutable sequence)\n",
    "tuple_var = (10, 20, 30)  # Tuple (immutable sequence)\n",
    "dict_var = {\"name\": \"Einstein\", \"field\": \"Physics\"}  # Dictionary (key-value pairs)"
   ]
  },
  {
   "cell_type": "code",
   "execution_count": null,
   "metadata": {},
   "outputs": [],
   "source": [
    "# Displaying different data types\n",
    "print(\"Boolean variable:\", boolean_var)\n",
    "print(\"List variable:\", list_var)\n",
    "print(\"Tuple variable:\", tuple_var)\n",
    "print(\"Dictionary variable:\", dict_var)"
   ]
  },
  {
   "cell_type": "code",
   "execution_count": null,
   "metadata": {},
   "outputs": [],
   "source": [
    "### Type Checking\n",
    "# To check the data type of a variable, we use the type() function.\n",
    "print(\"Type of integer_var:\", type(integer_variable))\n",
    "print(\"Type of float_var:\", type(float_variable))\n",
    "print(\"Type of txt_var:\", type(txt_variable))\n",
    "print(\"Type of boolean_var:\", type(boolean_var))\n",
    "print(\"Type of list_var:\", type(list_var))\n",
    "print(\"Type of tuple_var:\", type(tuple_var))\n",
    "print(\"Type of dict_var:\", type(dict_var))"
   ]
  },
  {
   "cell_type": "code",
   "execution_count": null,
   "metadata": {},
   "outputs": [],
   "source": [
    "### Type Conversion (Casting)\n",
    "# Python allows conversion between different data types.\n",
    "int_to_float = float(integer_variable)  # Convert int to float\n",
    "float_to_int = int(float_variable)  # Convert float to int\n",
    "string_to_int = int(\"42\")  # Convert string to int"
   ]
  },
  {
   "cell_type": "markdown",
   "metadata": {},
   "source": [
    "## Note: Trying to convert a non-numeric string to int will cause an error.\n",
    "## Example: int(\"Hello\") will raise a ValueError.\n",
    "\n",
    "\n",
    "## Summary:\n",
    " - Variables store values and can hold different data types.\n",
    " - Python has built-in data types like int, float, str, bool, list, tuple, and dict.\n",
    " - Use type() to check the type of a variable.\n",
    " - Type conversion allows changing data types when necessary."
   ]
  },
  {
   "cell_type": "markdown",
   "metadata": {},
   "source": [
    "# Next, we will move on to Lists and Loops!"
   ]
  },
  {
   "cell_type": "markdown",
   "metadata": {},
   "source": [
    "## 2. Lists and Loops in Python\n",
    "\n",
    "### Lists: Ordered, Mutable Collections\n",
    "A list in Python is a collection of items stored in a specific order. Lists are mutable, meaning their contents can be changed."
   ]
  },
  {
   "cell_type": "code",
   "execution_count": null,
   "metadata": {},
   "outputs": [],
   "source": [
    "# Creating a list of numbers\n",
    "numbers = [10, 20, 30, 40, 50]\n",
    "print(\"Original List:\", numbers)"
   ]
  },
  {
   "cell_type": "code",
   "execution_count": null,
   "metadata": {},
   "outputs": [],
   "source": [
    "# Accessing list elements (indexing starts from 0)\n",
    "print(\"First element:\", numbers[0])\n",
    "print(\"Last element:\", numbers[-1])  # Negative indexing"
   ]
  },
  {
   "cell_type": "code",
   "execution_count": null,
   "metadata": {},
   "outputs": [],
   "source": [
    "# Modifying list elements\n",
    "numbers[2] = 99  # Changing the third element\n",
    "print(\"Modified List:\", numbers)"
   ]
  },
  {
   "cell_type": "code",
   "execution_count": null,
   "metadata": {},
   "outputs": [],
   "source": [
    "# Adding elements to a list\n",
    "numbers.append(60)  # Adds 60 at the end\n",
    "numbers.insert(2, 25)  # Inserts 25 at index 2\n",
    "print(\"List after additions:\", numbers)"
   ]
  },
  {
   "cell_type": "code",
   "execution_count": null,
   "metadata": {},
   "outputs": [],
   "source": [
    "# Removing elements from a list\n",
    "numbers.remove(40)  # Removes first occurrence of 40\n",
    "popped_value = numbers.pop()  # Removes last element and stores it\n",
    "print(\"List after removals:\", numbers)\n",
    "print(\"Popped value:\", popped_value)"
   ]
  },
  {
   "cell_type": "code",
   "execution_count": null,
   "metadata": {},
   "outputs": [],
   "source": [
    "# Slicing a list (getting a subset)\n",
    "subset = numbers[1:4]  # Gets elements from index 1 to 3 (excluding 4)\n",
    "print(\"List subset:\", subset)"
   ]
  },
  {
   "cell_type": "markdown",
   "metadata": {},
   "source": [
    "## Loops: Iterating Over Lists\n",
    "\n",
    "Loops allow us to iterate over list elements efficiently. Most used loops are 'for' loops and 'while' loops"
   ]
  },
  {
   "cell_type": "code",
   "execution_count": null,
   "metadata": {},
   "outputs": [],
   "source": [
    "# Using a for loop to print each element\n",
    "print(\"Looping through the list:\")\n",
    "for num in numbers:\n",
    "    print(num)"
   ]
  },
  {
   "cell_type": "code",
   "execution_count": null,
   "metadata": {},
   "outputs": [],
   "source": [
    "# Using range() to iterate through index positions\n",
    "print(\"Using range():\")\n",
    "for i in range(len(numbers)):\n",
    "    print(f\"Element at index {i}: {numbers[i]}\")"
   ]
  },
  {
   "cell_type": "code",
   "execution_count": null,
   "metadata": {},
   "outputs": [],
   "source": [
    "# Using list comprehension to square each number in the list\n",
    "squared_numbers = [num ** 2 for num in numbers]\n",
    "print(\"Squared numbers:\", squared_numbers)"
   ]
  },
  {
   "cell_type": "code",
   "execution_count": null,
   "metadata": {},
   "outputs": [],
   "source": [
    "### While Loop Example\n",
    "# While loops execute as long as a condition is True.\n",
    "\n",
    "counter = 0\n",
    "print(\"Counting using while loop:\")\n",
    "while counter < 5:\n",
    "    print(\"Count:\", counter)\n",
    "    counter += 1\n"
   ]
  },
  {
   "cell_type": "markdown",
   "metadata": {},
   "source": [
    "### Summary:\n",
    " - Lists store ordered, mutable collections of data.\n",
    " - Elements can be accessed, modified, added, or removed.\n",
    " - Loops help iterate through lists efficiently.\n",
    " - List comprehensions offer a compact way to transform lists."
   ]
  }
 ],
 "metadata": {
  "kernelspec": {
   "display_name": "base",
   "language": "python",
   "name": "python3"
  },
  "language_info": {
   "codemirror_mode": {
    "name": "ipython",
    "version": 3
   },
   "file_extension": ".py",
   "mimetype": "text/x-python",
   "name": "python",
   "nbconvert_exporter": "python",
   "pygments_lexer": "ipython3",
   "version": "3.12.2"
  }
 },
 "nbformat": 4,
 "nbformat_minor": 2
}
