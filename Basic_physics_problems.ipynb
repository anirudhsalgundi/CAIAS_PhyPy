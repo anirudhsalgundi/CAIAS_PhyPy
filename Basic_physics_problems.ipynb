{
 "cells": [
  {
   "cell_type": "markdown",
   "metadata": {},
   "source": [
    "# Solving Basic Physics Problems with Python\n",
    "\n",
    "### Problem 1: Kinematics - Free Fall\n",
    "Question: A ball is dropped from a height of 20 meters. How long does it take to reach the ground?\n",
    "\n",
    "Formula: t = sqrt(2h/g), where g = 9.81 m/s²"
   ]
  },
  {
   "cell_type": "code",
   "execution_count": null,
   "metadata": {},
   "outputs": [],
   "source": [
    "!pip install numpy scipy matplotlib astropy stingray"
   ]
  },
  {
   "cell_type": "code",
   "execution_count": null,
   "metadata": {},
   "outputs": [],
   "source": [
    "import math\n",
    "import numpy as np\n",
    "import matplotlib.pyplot as plt"
   ]
  },
  {
   "cell_type": "code",
   "execution_count": null,
   "metadata": {},
   "outputs": [],
   "source": [
    "g = 9.81  # Acceleration due to gravity (m/s²)\n",
    "time = math.sqrt((2 * 20) / g)\n",
    "print(np.round(time, 2))"
   ]
  },
  {
   "cell_type": "code",
   "execution_count": null,
   "metadata": {},
   "outputs": [],
   "source": [
    "def free_fall_time(height):\n",
    "    g = 9.81  # Acceleration due to gravity (m/s²)\n",
    "    time = math.sqrt((2 * height) / g)\n",
    "    return time\n",
    "\n",
    "time_taken = free_fall_time(20)\n",
    "print(f\"Time taken to reach the ground: {time_taken:.2f} seconds\")"
   ]
  },
  {
   "cell_type": "code",
   "execution_count": null,
   "metadata": {},
   "outputs": [],
   "source": [
    "# Graph: Free Fall Motion\n",
    "h_values = np.linspace(0, 20, 100)\n",
    "t_values = np.sqrt(2 * h_values / 9.81)\n",
    "plt.plot(t_values, h_values)\n",
    "plt.xlabel(\"Time (s)\")\n",
    "plt.ylabel(\"Height (m)\")\n",
    "plt.title(\"Free Fall Motion\")\n",
    "plt.grid()\n",
    "plt.show()"
   ]
  },
  {
   "cell_type": "markdown",
   "metadata": {},
   "source": [
    "## Problem 2: Projectile Motion\n",
    "Question: A projectile is launched at an angle of 45° with a velocity of 20 m/s.\n",
    "\n",
    "Calculate its trajectory.\n",
    "\n",
    "t_{\\text{flight}} = \\frac{2 v_0 \\sin(\\theta)}{g}"
   ]
  },
  {
   "cell_type": "markdown",
   "metadata": {},
   "source": [
    "### **Projectile Motion Equations**\n",
    "\n",
    "#### **1. Total Flight Time**\n",
    "$$\n",
    "t_{\\text{flight}} = \\frac{2 v_0 \\sin(\\theta)}{g}\n",
    "$$\n",
    "\n",
    "#### **2. Horizontal Position**\n",
    "$$\n",
    "x = v_0 \\cos(\\theta) t\n",
    "$$\n",
    "\n",
    "#### **3. Vertical Position**\n",
    "$$\n",
    "y = v_0 \\sin(\\theta) t - \\frac{1}{2} g t^2"
   ]
  },
  {
   "cell_type": "code",
   "execution_count": null,
   "metadata": {},
   "outputs": [],
   "source": [
    "def projectile_motion(v0, angle):\n",
    "    g = 9.81  # Gravity (m/s²)\n",
    "    theta = np.radians(angle)  # Convert angle to radians\n",
    "    t_flight = (2 * v0 * np.sin(theta)) / g  # Total flight time\n",
    "    t_values = np.linspace(0, t_flight, num=100)\n",
    "    x_values = v0 * np.cos(theta) * t_values\n",
    "    y_values = v0 * np.sin(theta) * t_values - 0.5 * g * t_values**2\n",
    "    return x_values, y_values\n",
    "\n",
    "v0 = 20  # Initial velocity (m/s)\n",
    "angle = 45  # Launch angle (degrees)\n",
    "x_vals, y_vals = projectile_motion(v0, angle)\n",
    "\n",
    "plt.plot(x_vals, y_vals)\n",
    "plt.xlabel(\"Horizontal Distance (m)\")\n",
    "plt.ylabel(\"Vertical Height (m)\")\n",
    "plt.title(\"Projectile Motion Trajectory\")\n",
    "plt.grid()\n",
    "plt.show()"
   ]
  },
  {
   "cell_type": "markdown",
   "metadata": {},
   "source": [
    "### Problem 3: Simple Harmonic Motion (SHM)\n",
    "Question: A mass-spring system oscillates with a period of 2 seconds and amplitude of 5 cm.\n",
    "\n",
    "Plot the SHM displacement over time."
   ]
  },
  {
   "cell_type": "markdown",
   "metadata": {},
   "source": [
    "### **Simple Harmonic Motion (SHM) Equations**\n",
    "\n",
    "#### **1. Angular Frequency**\n",
    "$$\n",
    "\\omega = \\frac{2\\pi}{T}\n",
    "$$\n",
    "where:  \n",
    "- \\( \\omega \\) = Angular frequency (rad/s)  \n",
    "- \\( T \\) = Time period (s)  \n",
    "\n",
    "#### **2. Displacement Equation**\n",
    "$$\n",
    "x(t) = A \\cos(\\omega t)\n",
    "$$\n",
    "where:  \n",
    "- \\( x(t) \\) = Displacement at time \\( t \\) (m)  \n",
    "- \\( A \\) = Amplitude (m)  \n",
    "- \\( t \\) = Time (s)  \n",
    "\n",
    "#### **3. Velocity Equation**\n",
    "$$\n",
    "v(t) = -A \\omega \\sin(\\omega t)\n",
    "$$\n",
    "\n",
    "#### **4. Acceleration Equation**\n",
    "$$\n",
    "a(t) = -A \\omega^2 \\cos(\\omega t)\n",
    "$$\n",
    "\n",
    "#### **5. SHM Characteristic Equation**\n",
    "$$\n",
    "\\frac{d^2x}{dt^2} + \\omega^2 x = 0\n",
    "$$\n",
    "\n",
    "These equations describe the motion of an object undergoing simple harmonic motion."
   ]
  },
  {
   "cell_type": "code",
   "execution_count": null,
   "metadata": {},
   "outputs": [],
   "source": [
    "def shm_motion(amplitude, period, time_duration):\n",
    "    t_values = np.linspace(0, time_duration, 1000)\n",
    "    omega = 2 * np.pi / period  # Angular frequency\n",
    "    x_values = amplitude * np.cos(omega * t_values)\n",
    "    return t_values, x_values\n",
    "\n",
    "amplitude = 0.05  # meters\n",
    "period = 2  # seconds\n",
    "time_duration = 10  # seconds\n",
    "t_vals, x_vals = shm_motion(amplitude, period, time_duration)\n",
    "\n",
    "plt.plot(t_vals, x_vals)\n",
    "plt.xlabel(\"Time (s)\")\n",
    "plt.ylabel(\"Displacement (m)\")\n",
    "plt.title(\"Simple Harmonic Motion\")\n",
    "plt.grid()\n",
    "plt.show()"
   ]
  },
  {
   "cell_type": "markdown",
   "metadata": {},
   "source": [
    "## Quiz\n",
    "using the equations above, plot:\n",
    "1. velocity vs time\n",
    "2. acceleration vs time"
   ]
  },
  {
   "cell_type": "code",
   "execution_count": null,
   "metadata": {},
   "outputs": [],
   "source": [
    "def calculate_velocity(amplitude, period, time_duration):\n",
    "    t_values = np.linspace(0, time_duration, 1000)\n",
    "    velocity = #\n",
    "    return t_values, velocity\n",
    "\n",
    "\n",
    "amplitude = 0.05  # meters\n",
    "period = 2  # seconds\n",
    "time_duration = 10  # seconds\n",
    "\n",
    "# Call the function here\n",
    "\n",
    "plt.plot()\n",
    "plt.xlabel(\"Time (s)\")\n",
    "plt.ylabel(\"Displacement (m)\")\n",
    "plt.title(\"Simple Harmonic Motion\")\n",
    "plt.grid()\n",
    "plt.show()"
   ]
  },
  {
   "cell_type": "code",
   "execution_count": null,
   "metadata": {},
   "outputs": [],
   "source": [
    "def calculate_acceleration(amplitude, period, time_duration):\n",
    "    t_values = np.linspace(0, time_duration, 1000)\n",
    "    acceleration = #\n",
    "    return t_values, acceleration\n",
    "\n",
    "\n",
    "amplitude = 0.05  # meters\n",
    "period = 2  # seconds\n",
    "time_duration = 10  # seconds\n",
    "\n",
    "# Call the function here\n",
    "\n",
    "plt.plot()\n",
    "plt.xlabel(\"Time (s)\")\n",
    "plt.ylabel(\"Displacement (m)\")\n",
    "plt.title(\"Simple Harmonic Motion\")\n",
    "plt.grid()\n",
    "plt.show()"
   ]
  }
 ],
 "metadata": {
  "kernelspec": {
   "display_name": "base",
   "language": "python",
   "name": "python3"
  },
  "language_info": {
   "codemirror_mode": {
    "name": "ipython",
    "version": 3
   },
   "file_extension": ".py",
   "mimetype": "text/x-python",
   "name": "python",
   "nbconvert_exporter": "python",
   "pygments_lexer": "ipython3",
   "version": "3.12.2"
  }
 },
 "nbformat": 4,
 "nbformat_minor": 2
}
